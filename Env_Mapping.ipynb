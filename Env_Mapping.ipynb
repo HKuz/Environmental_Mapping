{
 "cells": [
  {
   "cell_type": "markdown",
   "id": "1103fcbd",
   "metadata": {},
   "source": [
    "# Environmental Mapping Playground"
   ]
  },
  {
   "cell_type": "code",
   "execution_count": 1,
   "id": "3d62f236",
   "metadata": {},
   "outputs": [],
   "source": [
    "import os\n",
    "import geemap\n",
    "import numpy as np\n",
    "import geopandas as gpd"
   ]
  },
  {
   "cell_type": "code",
   "execution_count": 2,
   "id": "ec47c026",
   "metadata": {},
   "outputs": [],
   "source": [
    "nh_center = [43.78699687528447, -71.51658744025995]\n",
    "nh_zoom = 8"
   ]
  },
  {
   "cell_type": "code",
   "execution_count": 13,
   "id": "4f942417",
   "metadata": {},
   "outputs": [],
   "source": [
    "# Helper function to convert square feet to acres\n",
    "def sq_ft_to_acres(sq_ft):\n",
    "    \"\"\"\n",
    "    Returns area in acres when square feet are input.\n",
    "    :param sq_ft: numeric type, area in square feet\n",
    "    :return: float, area in acres\n",
    "    \"\"\"\n",
    "    conv_factor = 43560.0\n",
    "    return sq_ft / conv_factor"
   ]
  },
  {
   "cell_type": "markdown",
   "id": "1bf285e5",
   "metadata": {},
   "source": [
    "## Test Import of Political Boundaries GeoJSON"
   ]
  },
  {
   "cell_type": "code",
   "execution_count": 3,
   "id": "052e2e28",
   "metadata": {},
   "outputs": [],
   "source": [
    "pb_poly_url = 'https://opendata.arcgis.com/datasets/4edf75ab263b4d92996f92fb9cf435fa_8.geojson'"
   ]
  },
  {
   "cell_type": "code",
   "execution_count": 4,
   "id": "e2b0c782",
   "metadata": {},
   "outputs": [
    {
     "data": {
      "text/html": [
       "<div>\n",
       "<style scoped>\n",
       "    .dataframe tbody tr th:only-of-type {\n",
       "        vertical-align: middle;\n",
       "    }\n",
       "\n",
       "    .dataframe tbody tr th {\n",
       "        vertical-align: top;\n",
       "    }\n",
       "\n",
       "    .dataframe thead th {\n",
       "        text-align: right;\n",
       "    }\n",
       "</style>\n",
       "<table border=\"1\" class=\"dataframe\">\n",
       "  <thead>\n",
       "    <tr style=\"text-align: right;\">\n",
       "      <th></th>\n",
       "      <th>pbpOBJECTID</th>\n",
       "      <th>pbpFIPS</th>\n",
       "      <th>pbpCOUSUB</th>\n",
       "      <th>pbpNAME</th>\n",
       "      <th>pbpRPA</th>\n",
       "      <th>pbpCOUNTY</th>\n",
       "      <th>pbpSHAPE_Length</th>\n",
       "      <th>pbpSHAPE_Area</th>\n",
       "      <th>PB_TOWN_Census_2010_StatsOBJECTID</th>\n",
       "      <th>PB_TOWN_Census_2010_StatsFIPS</th>\n",
       "      <th>...</th>\n",
       "      <th>PB_TOWN_Census_2010_StatsFIPS_1</th>\n",
       "      <th>PB_TOWN_Census_2010_StatsALTTOWNNAME</th>\n",
       "      <th>PB_TOWN_Census_2010_StatsNBRFIPS</th>\n",
       "      <th>PB_TOWN_Census_2010_StatsCOUNTYNAME_1</th>\n",
       "      <th>PB_TOWN_Census_2010_StatsRPASHORT</th>\n",
       "      <th>PB_TOWN_Census_2010_StatsPOP100</th>\n",
       "      <th>PB_TOWN_Census_2010_StatsHU100</th>\n",
       "      <th>PB_TOWN_Census_2010_StatsPOPMALE</th>\n",
       "      <th>PB_TOWN_Census_2010_StatsPOPFEMALE</th>\n",
       "      <th>geometry</th>\n",
       "    </tr>\n",
       "  </thead>\n",
       "  <tbody>\n",
       "    <tr>\n",
       "      <th>0</th>\n",
       "      <td>1</td>\n",
       "      <td>7215</td>\n",
       "      <td>84420</td>\n",
       "      <td>Whitefield</td>\n",
       "      <td>1</td>\n",
       "      <td>7</td>\n",
       "      <td>159779.021915</td>\n",
       "      <td>9.684227e+08</td>\n",
       "      <td>41</td>\n",
       "      <td>7215</td>\n",
       "      <td>...</td>\n",
       "      <td>7215</td>\n",
       "      <td>Whitefield</td>\n",
       "      <td>7215</td>\n",
       "      <td>Coos</td>\n",
       "      <td>North Country Council</td>\n",
       "      <td>2306</td>\n",
       "      <td>1339</td>\n",
       "      <td>1126</td>\n",
       "      <td>1180</td>\n",
       "      <td>POLYGON ((-71.62844 44.41026, -71.62844 44.409...</td>\n",
       "    </tr>\n",
       "    <tr>\n",
       "      <th>1</th>\n",
       "      <td>2</td>\n",
       "      <td>7180</td>\n",
       "      <td>68980</td>\n",
       "      <td>Shelburne</td>\n",
       "      <td>1</td>\n",
       "      <td>7</td>\n",
       "      <td>147042.874299</td>\n",
       "      <td>1.359590e+09</td>\n",
       "      <td>4</td>\n",
       "      <td>7180</td>\n",
       "      <td>...</td>\n",
       "      <td>7180</td>\n",
       "      <td>Shelburne</td>\n",
       "      <td>7180</td>\n",
       "      <td>Coos</td>\n",
       "      <td>North Country Council</td>\n",
       "      <td>372</td>\n",
       "      <td>217</td>\n",
       "      <td>192</td>\n",
       "      <td>180</td>\n",
       "      <td>POLYGON ((-71.16158 44.43815, -71.16158 44.436...</td>\n",
       "    </tr>\n",
       "    <tr>\n",
       "      <th>2</th>\n",
       "      <td>3</td>\n",
       "      <td>7075</td>\n",
       "      <td>18420</td>\n",
       "      <td>Dixville</td>\n",
       "      <td>1</td>\n",
       "      <td>7</td>\n",
       "      <td>166006.939835</td>\n",
       "      <td>1.370192e+09</td>\n",
       "      <td>62</td>\n",
       "      <td>7075</td>\n",
       "      <td>...</td>\n",
       "      <td>7075</td>\n",
       "      <td>Dixville</td>\n",
       "      <td>7075</td>\n",
       "      <td>Coos</td>\n",
       "      <td>North Country Council</td>\n",
       "      <td>12</td>\n",
       "      <td>33</td>\n",
       "      <td>6</td>\n",
       "      <td>6</td>\n",
       "      <td>POLYGON ((-71.29019 44.97358, -71.29117 44.969...</td>\n",
       "    </tr>\n",
       "    <tr>\n",
       "      <th>3</th>\n",
       "      <td>4</td>\n",
       "      <td>7070</td>\n",
       "      <td>18340</td>\n",
       "      <td>Dixs Grant</td>\n",
       "      <td>1</td>\n",
       "      <td>7</td>\n",
       "      <td>105578.847104</td>\n",
       "      <td>5.594624e+08</td>\n",
       "      <td>144</td>\n",
       "      <td>7070</td>\n",
       "      <td>...</td>\n",
       "      <td>7070</td>\n",
       "      <td>Dixs Grant</td>\n",
       "      <td>7070</td>\n",
       "      <td>Coos</td>\n",
       "      <td>North Country Council</td>\n",
       "      <td>1</td>\n",
       "      <td>15</td>\n",
       "      <td>0</td>\n",
       "      <td>1</td>\n",
       "      <td>POLYGON ((-71.22457 44.96439, -71.22457 44.964...</td>\n",
       "    </tr>\n",
       "    <tr>\n",
       "      <th>4</th>\n",
       "      <td>5</td>\n",
       "      <td>7045</td>\n",
       "      <td>13780</td>\n",
       "      <td>Colebrook</td>\n",
       "      <td>1</td>\n",
       "      <td>7</td>\n",
       "      <td>165905.674698</td>\n",
       "      <td>1.137201e+09</td>\n",
       "      <td>135</td>\n",
       "      <td>7045</td>\n",
       "      <td>...</td>\n",
       "      <td>7045</td>\n",
       "      <td>Colebrook</td>\n",
       "      <td>7045</td>\n",
       "      <td>Coos</td>\n",
       "      <td>North Country Council</td>\n",
       "      <td>2301</td>\n",
       "      <td>1429</td>\n",
       "      <td>1133</td>\n",
       "      <td>1168</td>\n",
       "      <td>POLYGON ((-71.51525 44.94274, -71.51525 44.942...</td>\n",
       "    </tr>\n",
       "  </tbody>\n",
       "</table>\n",
       "<p>5 rows × 29 columns</p>\n",
       "</div>"
      ],
      "text/plain": [
       "   pbpOBJECTID  pbpFIPS  pbpCOUSUB     pbpNAME  pbpRPA  pbpCOUNTY  \\\n",
       "0            1     7215      84420  Whitefield       1          7   \n",
       "1            2     7180      68980   Shelburne       1          7   \n",
       "2            3     7075      18420    Dixville       1          7   \n",
       "3            4     7070      18340  Dixs Grant       1          7   \n",
       "4            5     7045      13780   Colebrook       1          7   \n",
       "\n",
       "   pbpSHAPE_Length  pbpSHAPE_Area  PB_TOWN_Census_2010_StatsOBJECTID  \\\n",
       "0    159779.021915   9.684227e+08                                 41   \n",
       "1    147042.874299   1.359590e+09                                  4   \n",
       "2    166006.939835   1.370192e+09                                 62   \n",
       "3    105578.847104   5.594624e+08                                144   \n",
       "4    165905.674698   1.137201e+09                                135   \n",
       "\n",
       "   PB_TOWN_Census_2010_StatsFIPS  ... PB_TOWN_Census_2010_StatsFIPS_1  \\\n",
       "0                           7215  ...                            7215   \n",
       "1                           7180  ...                            7180   \n",
       "2                           7075  ...                            7075   \n",
       "3                           7070  ...                            7070   \n",
       "4                           7045  ...                            7045   \n",
       "\n",
       "   PB_TOWN_Census_2010_StatsALTTOWNNAME  PB_TOWN_Census_2010_StatsNBRFIPS  \\\n",
       "0                            Whitefield                              7215   \n",
       "1                             Shelburne                              7180   \n",
       "2                              Dixville                              7075   \n",
       "3                            Dixs Grant                              7070   \n",
       "4                             Colebrook                              7045   \n",
       "\n",
       "  PB_TOWN_Census_2010_StatsCOUNTYNAME_1  PB_TOWN_Census_2010_StatsRPASHORT  \\\n",
       "0                                  Coos              North Country Council   \n",
       "1                                  Coos              North Country Council   \n",
       "2                                  Coos              North Country Council   \n",
       "3                                  Coos              North Country Council   \n",
       "4                                  Coos              North Country Council   \n",
       "\n",
       "  PB_TOWN_Census_2010_StatsPOP100 PB_TOWN_Census_2010_StatsHU100  \\\n",
       "0                            2306                           1339   \n",
       "1                             372                            217   \n",
       "2                              12                             33   \n",
       "3                               1                             15   \n",
       "4                            2301                           1429   \n",
       "\n",
       "   PB_TOWN_Census_2010_StatsPOPMALE  PB_TOWN_Census_2010_StatsPOPFEMALE  \\\n",
       "0                              1126                                1180   \n",
       "1                               192                                 180   \n",
       "2                                 6                                   6   \n",
       "3                                 0                                   1   \n",
       "4                              1133                                1168   \n",
       "\n",
       "                                            geometry  \n",
       "0  POLYGON ((-71.62844 44.41026, -71.62844 44.409...  \n",
       "1  POLYGON ((-71.16158 44.43815, -71.16158 44.436...  \n",
       "2  POLYGON ((-71.29019 44.97358, -71.29117 44.969...  \n",
       "3  POLYGON ((-71.22457 44.96439, -71.22457 44.964...  \n",
       "4  POLYGON ((-71.51525 44.94274, -71.51525 44.942...  \n",
       "\n",
       "[5 rows x 29 columns]"
      ]
     },
     "execution_count": 4,
     "metadata": {},
     "output_type": "execute_result"
    }
   ],
   "source": [
    "pb_poly = gpd.read_file(pb_poly_url, driver='geojson')\n",
    "pb_poly.head()"
   ]
  },
  {
   "cell_type": "code",
   "execution_count": 5,
   "id": "ac33eeca",
   "metadata": {},
   "outputs": [
    {
     "data": {
      "text/plain": [
       "(259, 29)"
      ]
     },
     "execution_count": 5,
     "metadata": {},
     "output_type": "execute_result"
    }
   ],
   "source": [
    "pb_poly.shape"
   ]
  },
  {
   "cell_type": "code",
   "execution_count": 7,
   "id": "c1a10e4b",
   "metadata": {},
   "outputs": [
    {
     "data": {
      "text/plain": [
       "<Geographic 2D CRS: EPSG:4326>\n",
       "Name: WGS 84\n",
       "Axis Info [ellipsoidal]:\n",
       "- Lat[north]: Geodetic latitude (degree)\n",
       "- Lon[east]: Geodetic longitude (degree)\n",
       "Area of Use:\n",
       "- name: World.\n",
       "- bounds: (-180.0, -90.0, 180.0, 90.0)\n",
       "Datum: World Geodetic System 1984 ensemble\n",
       "- Ellipsoid: WGS 84\n",
       "- Prime Meridian: Greenwich"
      ]
     },
     "execution_count": 7,
     "metadata": {},
     "output_type": "execute_result"
    }
   ],
   "source": [
    "pb_poly.crs"
   ]
  },
  {
   "cell_type": "code",
   "execution_count": 9,
   "id": "122d4f60",
   "metadata": {},
   "outputs": [
    {
     "data": {
      "text/plain": [
       "<Derived Projected CRS: EPSG:3437>\n",
       "Name: NAD83 / New Hampshire (ftUS)\n",
       "Axis Info [cartesian]:\n",
       "- X[east]: Easting (US survey foot)\n",
       "- Y[north]: Northing (US survey foot)\n",
       "Area of Use:\n",
       "- name: United States (USA) - New Hampshire - counties of Belknap; Carroll; Cheshire; Coos; Grafton; Hillsborough; Merrimack; Rockingham; Strafford; Sullivan.\n",
       "- bounds: (-72.56, 42.69, -70.63, 45.31)\n",
       "Coordinate Operation:\n",
       "- name: SPCS83 New Hampshire zone (US Survey feet)\n",
       "- method: Transverse Mercator\n",
       "Datum: North American Datum 1983\n",
       "- Ellipsoid: GRS 1980\n",
       "- Prime Meridian: Greenwich"
      ]
     },
     "execution_count": 9,
     "metadata": {},
     "output_type": "execute_result"
    }
   ],
   "source": [
    "pb_poly = pb_poly.to_crs('epsg:3437')"
   ]
  },
  {
   "cell_type": "code",
   "execution_count": 6,
   "id": "6dbf353a",
   "metadata": {},
   "outputs": [
    {
     "name": "stdout",
     "output_type": "stream",
     "text": [
      "<class 'geopandas.geodataframe.GeoDataFrame'>\n",
      "RangeIndex: 259 entries, 0 to 258\n",
      "Data columns (total 29 columns):\n",
      " #   Column                                 Non-Null Count  Dtype   \n",
      "---  ------                                 --------------  -----   \n",
      " 0   pbpOBJECTID                            259 non-null    int64   \n",
      " 1   pbpFIPS                                259 non-null    int64   \n",
      " 2   pbpCOUSUB                              259 non-null    int64   \n",
      " 3   pbpNAME                                259 non-null    object  \n",
      " 4   pbpRPA                                 259 non-null    int64   \n",
      " 5   pbpCOUNTY                              259 non-null    int64   \n",
      " 6   pbpSHAPE_Length                        259 non-null    float64 \n",
      " 7   pbpSHAPE_Area                          259 non-null    float64 \n",
      " 8   PB_TOWN_Census_2010_StatsOBJECTID      259 non-null    int64   \n",
      " 9   PB_TOWN_Census_2010_StatsFIPS          259 non-null    int64   \n",
      " 10  PB_TOWN_Census_2010_StatsNAME          259 non-null    object  \n",
      " 11  PB_TOWN_Census_2010_StatsACRES         259 non-null    float64 \n",
      " 12  PB_TOWN_Census_2010_StatsCOUNTYFIPS    259 non-null    int64   \n",
      " 13  PB_TOWN_Census_2010_StatsCOUNTYNAME    259 non-null    object  \n",
      " 14  PB_TOWN_Census_2010_StatsRPACODE       259 non-null    int64   \n",
      " 15  PB_TOWN_Census_2010_StatsRPANAME       259 non-null    object  \n",
      " 16  PB_TOWN_Census_2010_StatsRPAIMS        259 non-null    object  \n",
      " 17  PB_TOWN_Census_2010_StatsOBJECTID_1    259 non-null    int64   \n",
      " 18  PB_TOWN_Census_2010_StatsFREQUENCY     259 non-null    int64   \n",
      " 19  PB_TOWN_Census_2010_StatsFIPS_1        259 non-null    object  \n",
      " 20  PB_TOWN_Census_2010_StatsALTTOWNNAME   259 non-null    object  \n",
      " 21  PB_TOWN_Census_2010_StatsNBRFIPS       259 non-null    int64   \n",
      " 22  PB_TOWN_Census_2010_StatsCOUNTYNAME_1  259 non-null    object  \n",
      " 23  PB_TOWN_Census_2010_StatsRPASHORT      259 non-null    object  \n",
      " 24  PB_TOWN_Census_2010_StatsPOP100        259 non-null    int64   \n",
      " 25  PB_TOWN_Census_2010_StatsHU100         259 non-null    int64   \n",
      " 26  PB_TOWN_Census_2010_StatsPOPMALE       259 non-null    int64   \n",
      " 27  PB_TOWN_Census_2010_StatsPOPFEMALE     259 non-null    int64   \n",
      " 28  geometry                               259 non-null    geometry\n",
      "dtypes: float64(3), geometry(1), int64(16), object(9)\n",
      "memory usage: 58.8+ KB\n"
     ]
    }
   ],
   "source": [
    "pb_poly.info()"
   ]
  },
  {
   "cell_type": "code",
   "execution_count": 11,
   "id": "686f440f",
   "metadata": {},
   "outputs": [],
   "source": [
    "cols_to_keep = ['pbpFIPS',\n",
    "                'pbpCOUSUB',\n",
    "                'pbpNAME',\n",
    "                'pbpRPA',\n",
    "                'pbpCOUNTY',\n",
    "                'geometry']\n",
    "\n",
    "pb_poly = pb_poly.loc[:, cols_to_keep].copy()"
   ]
  },
  {
   "cell_type": "code",
   "execution_count": 27,
   "id": "22fb2309",
   "metadata": {},
   "outputs": [],
   "source": [
    "# Clean column names\n",
    "pb_poly.columns = ['FIPS',\n",
    "                  'COUSUB',\n",
    "                  'TOWN_NAME',\n",
    "                  'RPA',\n",
    "                  'COUNTY',\n",
    "                  'geometry']"
   ]
  },
  {
   "cell_type": "code",
   "execution_count": 29,
   "id": "7b17f7ff",
   "metadata": {},
   "outputs": [],
   "source": [
    "# Add acreage column\n",
    "pb_poly['TOWN_ACRES'] = pb_poly['geometry'].area.apply(sq_ft_to_acres)"
   ]
  },
  {
   "cell_type": "code",
   "execution_count": 30,
   "id": "f7e3e65f",
   "metadata": {},
   "outputs": [
    {
     "data": {
      "text/html": [
       "<div>\n",
       "<style scoped>\n",
       "    .dataframe tbody tr th:only-of-type {\n",
       "        vertical-align: middle;\n",
       "    }\n",
       "\n",
       "    .dataframe tbody tr th {\n",
       "        vertical-align: top;\n",
       "    }\n",
       "\n",
       "    .dataframe thead th {\n",
       "        text-align: right;\n",
       "    }\n",
       "</style>\n",
       "<table border=\"1\" class=\"dataframe\">\n",
       "  <thead>\n",
       "    <tr style=\"text-align: right;\">\n",
       "      <th></th>\n",
       "      <th>FIPS</th>\n",
       "      <th>COUSUB</th>\n",
       "      <th>TOWN_NAME</th>\n",
       "      <th>RPA</th>\n",
       "      <th>COUNTY</th>\n",
       "      <th>geometry</th>\n",
       "      <th>TOWN_ACRES</th>\n",
       "    </tr>\n",
       "  </thead>\n",
       "  <tbody>\n",
       "    <tr>\n",
       "      <th>0</th>\n",
       "      <td>7215</td>\n",
       "      <td>84420</td>\n",
       "      <td>Whitefield</td>\n",
       "      <td>1</td>\n",
       "      <td>7</td>\n",
       "      <td>POLYGON ((994238.463 696280.387, 994238.519 69...</td>\n",
       "      <td>22251.883271</td>\n",
       "    </tr>\n",
       "    <tr>\n",
       "      <th>1</th>\n",
       "      <td>7180</td>\n",
       "      <td>68980</td>\n",
       "      <td>Shelburne</td>\n",
       "      <td>1</td>\n",
       "      <td>7</td>\n",
       "      <td>POLYGON ((1116173.456 706851.680, 1116176.409 ...</td>\n",
       "      <td>31212.735405</td>\n",
       "    </tr>\n",
       "    <tr>\n",
       "      <th>2</th>\n",
       "      <td>7075</td>\n",
       "      <td>18420</td>\n",
       "      <td>Dixville</td>\n",
       "      <td>1</td>\n",
       "      <td>7</td>\n",
       "      <td>POLYGON ((1081680.490 901874.993, 1081432.971 ...</td>\n",
       "      <td>31455.275793</td>\n",
       "    </tr>\n",
       "    <tr>\n",
       "      <th>3</th>\n",
       "      <td>7070</td>\n",
       "      <td>18340</td>\n",
       "      <td>Dixs Grant</td>\n",
       "      <td>1</td>\n",
       "      <td>7</td>\n",
       "      <td>POLYGON ((1098679.892 898611.462, 1098679.892 ...</td>\n",
       "      <td>12848.989387</td>\n",
       "    </tr>\n",
       "    <tr>\n",
       "      <th>4</th>\n",
       "      <td>7045</td>\n",
       "      <td>13780</td>\n",
       "      <td>Colebrook</td>\n",
       "      <td>1</td>\n",
       "      <td>7</td>\n",
       "      <td>POLYGON ((1023456.031 890441.476, 1023456.031 ...</td>\n",
       "      <td>26108.861661</td>\n",
       "    </tr>\n",
       "  </tbody>\n",
       "</table>\n",
       "</div>"
      ],
      "text/plain": [
       "   FIPS  COUSUB   TOWN_NAME  RPA  COUNTY  \\\n",
       "0  7215   84420  Whitefield    1       7   \n",
       "1  7180   68980   Shelburne    1       7   \n",
       "2  7075   18420    Dixville    1       7   \n",
       "3  7070   18340  Dixs Grant    1       7   \n",
       "4  7045   13780   Colebrook    1       7   \n",
       "\n",
       "                                            geometry    TOWN_ACRES  \n",
       "0  POLYGON ((994238.463 696280.387, 994238.519 69...  22251.883271  \n",
       "1  POLYGON ((1116173.456 706851.680, 1116176.409 ...  31212.735405  \n",
       "2  POLYGON ((1081680.490 901874.993, 1081432.971 ...  31455.275793  \n",
       "3  POLYGON ((1098679.892 898611.462, 1098679.892 ...  12848.989387  \n",
       "4  POLYGON ((1023456.031 890441.476, 1023456.031 ...  26108.861661  "
      ]
     },
     "execution_count": 30,
     "metadata": {},
     "output_type": "execute_result"
    }
   ],
   "source": [
    "pb_poly.head()"
   ]
  },
  {
   "cell_type": "code",
   "execution_count": 54,
   "id": "3ad32b4a",
   "metadata": {},
   "outputs": [
    {
     "name": "stderr",
     "output_type": "stream",
     "text": [
      "TopologyException: Ring edge missing at 1040150.1627927045 272991.9652794578\n"
     ]
    },
    {
     "name": "stdout",
     "output_type": "stream",
     "text": [
      "1\n",
      "3\n",
      "5\n",
      "7\n",
      "9\n",
      "11\n",
      "13\n",
      "Bad topo\n",
      "15\n",
      "17\n",
      "19\n"
     ]
    }
   ],
   "source": [
    "# Create counties DataFrame\n",
    "counties = gpd.GeoDataFrame(pb_poly.groupby('COUNTY')['TOWN_ACRES'].sum())\n",
    "tmp = []\n",
    "\n",
    "for idx in counties.index:\n",
    "    try:\n",
    "        tmp.append((idx, pb_poly[pb_poly['COUNTY'] == idx]['geometry'].unary_union))\n",
    "    except:\n",
    "        print('Bad topo')\n",
    "        \n",
    "#     counties.loc[idx, 'geometry'] = pb_poly[pb_poly['COUNTY'] == idx]['geometry'].unary_union"
   ]
  },
  {
   "cell_type": "code",
   "execution_count": 48,
   "id": "c78c6bc6",
   "metadata": {},
   "outputs": [
    {
     "data": {
      "text/html": [
       "<div>\n",
       "<style scoped>\n",
       "    .dataframe tbody tr th:only-of-type {\n",
       "        vertical-align: middle;\n",
       "    }\n",
       "\n",
       "    .dataframe tbody tr th {\n",
       "        vertical-align: top;\n",
       "    }\n",
       "\n",
       "    .dataframe thead th {\n",
       "        text-align: right;\n",
       "    }\n",
       "</style>\n",
       "<table border=\"1\" class=\"dataframe\">\n",
       "  <thead>\n",
       "    <tr style=\"text-align: right;\">\n",
       "      <th></th>\n",
       "      <th>TOWN_ACRES</th>\n",
       "    </tr>\n",
       "    <tr>\n",
       "      <th>COUNTY</th>\n",
       "      <th></th>\n",
       "    </tr>\n",
       "  </thead>\n",
       "  <tbody>\n",
       "    <tr>\n",
       "      <th>1</th>\n",
       "      <td>3.007972e+05</td>\n",
       "    </tr>\n",
       "    <tr>\n",
       "      <th>3</th>\n",
       "      <td>6.358022e+05</td>\n",
       "    </tr>\n",
       "    <tr>\n",
       "      <th>5</th>\n",
       "      <td>4.664760e+05</td>\n",
       "    </tr>\n",
       "    <tr>\n",
       "      <th>7</th>\n",
       "      <td>1.171982e+06</td>\n",
       "    </tr>\n",
       "    <tr>\n",
       "      <th>9</th>\n",
       "      <td>1.119728e+06</td>\n",
       "    </tr>\n",
       "    <tr>\n",
       "      <th>11</th>\n",
       "      <td>5.711344e+05</td>\n",
       "    </tr>\n",
       "    <tr>\n",
       "      <th>13</th>\n",
       "      <td>6.111431e+05</td>\n",
       "    </tr>\n",
       "    <tr>\n",
       "      <th>15</th>\n",
       "      <td>4.651785e+05</td>\n",
       "    </tr>\n",
       "    <tr>\n",
       "      <th>17</th>\n",
       "      <td>2.448425e+05</td>\n",
       "    </tr>\n",
       "    <tr>\n",
       "      <th>19</th>\n",
       "      <td>3.534198e+05</td>\n",
       "    </tr>\n",
       "  </tbody>\n",
       "</table>\n",
       "</div>"
      ],
      "text/plain": [
       "          TOWN_ACRES\n",
       "COUNTY              \n",
       "1       3.007972e+05\n",
       "3       6.358022e+05\n",
       "5       4.664760e+05\n",
       "7       1.171982e+06\n",
       "9       1.119728e+06\n",
       "11      5.711344e+05\n",
       "13      6.111431e+05\n",
       "15      4.651785e+05\n",
       "17      2.448425e+05\n",
       "19      3.534198e+05"
      ]
     },
     "execution_count": 48,
     "metadata": {},
     "output_type": "execute_result"
    }
   ],
   "source": [
    "counties"
   ]
  },
  {
   "cell_type": "code",
   "execution_count": 46,
   "id": "7f49c1e7",
   "metadata": {},
   "outputs": [],
   "source": [
    "# counties = pb_poly.dissolve(by='COUNTY')"
   ]
  },
  {
   "cell_type": "code",
   "execution_count": null,
   "id": "ff1dcc05",
   "metadata": {},
   "outputs": [],
   "source": []
  },
  {
   "cell_type": "code",
   "execution_count": null,
   "id": "00a0df94",
   "metadata": {},
   "outputs": [],
   "source": []
  },
  {
   "cell_type": "code",
   "execution_count": 5,
   "id": "aefcbcaf",
   "metadata": {},
   "outputs": [],
   "source": [
    "# m1 = geemap.Map(center=nh_center, zoom=nh_zoom)\n",
    "# m1.add_basemap(\"HYBRID\")\n",
    "# hydro_url = \"https://basemap.nationalmap.gov/arcgis/services/USGSHydroCached/MapServer/WMSServer?\"\n",
    "# m1.add_wms_layer(url=hydro_url,\n",
    "#                  layers=\"0\",  # Find all options in XML\n",
    "#                  name=\"USGS Hydro\",\n",
    "#                  format=\"image/png\",\n",
    "#                  shown=True)\n",
    "# m1"
   ]
  },
  {
   "cell_type": "code",
   "execution_count": 3,
   "id": "9aa7970f",
   "metadata": {
    "scrolled": false
   },
   "outputs": [
    {
     "data": {
      "application/vnd.jupyter.widget-view+json": {
       "model_id": "6c837db36f0c4cc1aee742380041f58d",
       "version_major": 2,
       "version_minor": 0
      },
      "text/plain": [
       "Map(center=[43.78699687528447, -71.51658744025995], controls=(WidgetControl(options=['position', 'transparent_…"
      ]
     },
     "metadata": {},
     "output_type": "display_data"
    }
   ],
   "source": [
    "m = geemap.Map(center=nh_center, zoom=nh_zoom)\n",
    "\n",
    "m.add_basemap(\"HYBRID\")\n",
    "m.add_basemap(\"NLCD 2016 CONUS Land Cover\")\n",
    "m"
   ]
  },
  {
   "cell_type": "markdown",
   "id": "7e4d5c6d",
   "metadata": {},
   "source": [
    "## NH Trails"
   ]
  },
  {
   "cell_type": "code",
   "execution_count": 4,
   "id": "d222f717",
   "metadata": {},
   "outputs": [],
   "source": [
    "filepath = '/Users/heatherkusmierz/Documents/Files/Courses/Geography_Cartography/NH_Trails/GRANIT_20220201162014/'\n",
    "\n",
    "points_path = os.path.join(filepath, 'nhtrails_points.shp')\n",
    "lines_path = os.path.join(filepath, 'nhtrails.shp')"
   ]
  },
  {
   "cell_type": "code",
   "execution_count": 5,
   "id": "a5e02dac",
   "metadata": {},
   "outputs": [],
   "source": [
    "nh_trails_pts = gpd.read_file(points_path)\n",
    "nh_trails = gpd.read_file(lines_path)"
   ]
  },
  {
   "cell_type": "code",
   "execution_count": 6,
   "id": "b4fa8928",
   "metadata": {},
   "outputs": [
    {
     "data": {
      "text/html": [
       "<div>\n",
       "<style scoped>\n",
       "    .dataframe tbody tr th:only-of-type {\n",
       "        vertical-align: middle;\n",
       "    }\n",
       "\n",
       "    .dataframe tbody tr th {\n",
       "        vertical-align: top;\n",
       "    }\n",
       "\n",
       "    .dataframe thead th {\n",
       "        text-align: right;\n",
       "    }\n",
       "</style>\n",
       "<table border=\"1\" class=\"dataframe\">\n",
       "  <thead>\n",
       "    <tr style=\"text-align: right;\">\n",
       "      <th></th>\n",
       "      <th>OBJECTID</th>\n",
       "      <th>TYPE</th>\n",
       "      <th>POINAME</th>\n",
       "      <th>NOTES</th>\n",
       "      <th>geometry</th>\n",
       "    </tr>\n",
       "  </thead>\n",
       "  <tbody>\n",
       "    <tr>\n",
       "      <th>0</th>\n",
       "      <td>1</td>\n",
       "      <td>Parking</td>\n",
       "      <td>None</td>\n",
       "      <td>None</td>\n",
       "      <td>POINT (820189.772 435001.368)</td>\n",
       "    </tr>\n",
       "    <tr>\n",
       "      <th>1</th>\n",
       "      <td>2</td>\n",
       "      <td>Shelter</td>\n",
       "      <td>None</td>\n",
       "      <td>None</td>\n",
       "      <td>POINT (925740.922 545624.824)</td>\n",
       "    </tr>\n",
       "    <tr>\n",
       "      <th>2</th>\n",
       "      <td>3</td>\n",
       "      <td>Shelter</td>\n",
       "      <td>Garfield Shelter</td>\n",
       "      <td>None</td>\n",
       "      <td>POINT (999551.772 616224.551)</td>\n",
       "    </tr>\n",
       "    <tr>\n",
       "      <th>3</th>\n",
       "      <td>4</td>\n",
       "      <td>Shelter</td>\n",
       "      <td>None</td>\n",
       "      <td>None</td>\n",
       "      <td>POINT (886406.780 483274.609)</td>\n",
       "    </tr>\n",
       "    <tr>\n",
       "      <th>4</th>\n",
       "      <td>5</td>\n",
       "      <td>Shelter</td>\n",
       "      <td>None</td>\n",
       "      <td>None</td>\n",
       "      <td>POINT (946212.081 558785.194)</td>\n",
       "    </tr>\n",
       "  </tbody>\n",
       "</table>\n",
       "</div>"
      ],
      "text/plain": [
       "   OBJECTID     TYPE           POINAME NOTES                       geometry\n",
       "0         1  Parking              None  None  POINT (820189.772 435001.368)\n",
       "1         2  Shelter              None  None  POINT (925740.922 545624.824)\n",
       "2         3  Shelter  Garfield Shelter  None  POINT (999551.772 616224.551)\n",
       "3         4  Shelter              None  None  POINT (886406.780 483274.609)\n",
       "4         5  Shelter              None  None  POINT (946212.081 558785.194)"
      ]
     },
     "execution_count": 6,
     "metadata": {},
     "output_type": "execute_result"
    }
   ],
   "source": [
    "nh_trails_pts.head()"
   ]
  },
  {
   "cell_type": "code",
   "execution_count": 7,
   "id": "9cd2b0ef",
   "metadata": {},
   "outputs": [
    {
     "name": "stdout",
     "output_type": "stream",
     "text": [
      "<class 'geopandas.geodataframe.GeoDataFrame'>\n",
      "RangeIndex: 2654 entries, 0 to 2653\n",
      "Data columns (total 5 columns):\n",
      " #   Column    Non-Null Count  Dtype   \n",
      "---  ------    --------------  -----   \n",
      " 0   OBJECTID  2654 non-null   int64   \n",
      " 1   TYPE      2654 non-null   object  \n",
      " 2   POINAME   337 non-null    object  \n",
      " 3   NOTES     58 non-null     object  \n",
      " 4   geometry  2654 non-null   geometry\n",
      "dtypes: geometry(1), int64(1), object(3)\n",
      "memory usage: 103.8+ KB\n"
     ]
    }
   ],
   "source": [
    "nh_trails_pts.info()"
   ]
  },
  {
   "cell_type": "code",
   "execution_count": 8,
   "id": "ed8bd4d1",
   "metadata": {},
   "outputs": [
    {
     "data": {
      "text/plain": [
       "<Derived Projected CRS: PROJCS[\"NAD83(2011) / New Hampshire (ftUS)\",GEOGCS ...>\n",
       "Name: NAD83(2011) / New Hampshire (ftUS)\n",
       "Axis Info [cartesian]:\n",
       "- [east]: Easting (US survey foot)\n",
       "- [north]: Northing (US survey foot)\n",
       "Area of Use:\n",
       "- undefined\n",
       "Coordinate Operation:\n",
       "- name: unnamed\n",
       "- method: Transverse Mercator\n",
       "Datum: NAD83 (National Spatial Reference System 2011)\n",
       "- Ellipsoid: GRS 1980\n",
       "- Prime Meridian: Greenwich"
      ]
     },
     "execution_count": 8,
     "metadata": {},
     "output_type": "execute_result"
    }
   ],
   "source": [
    "nh_trails_pts.crs"
   ]
  },
  {
   "cell_type": "code",
   "execution_count": 9,
   "id": "ae3bf567",
   "metadata": {},
   "outputs": [
    {
     "data": {
      "text/html": [
       "<div>\n",
       "<style scoped>\n",
       "    .dataframe tbody tr th:only-of-type {\n",
       "        vertical-align: middle;\n",
       "    }\n",
       "\n",
       "    .dataframe tbody tr th {\n",
       "        vertical-align: top;\n",
       "    }\n",
       "\n",
       "    .dataframe thead th {\n",
       "        text-align: right;\n",
       "    }\n",
       "</style>\n",
       "<table border=\"1\" class=\"dataframe\">\n",
       "  <thead>\n",
       "    <tr style=\"text-align: right;\">\n",
       "      <th></th>\n",
       "      <th>OBJECTID</th>\n",
       "      <th>TRAIL</th>\n",
       "      <th>TRAILNAME</th>\n",
       "      <th>TRAILSYS</th>\n",
       "      <th>COMMUNITY</th>\n",
       "      <th>MILES</th>\n",
       "      <th>BLAZE</th>\n",
       "      <th>MAINTORG</th>\n",
       "      <th>NOTES</th>\n",
       "      <th>PED</th>\n",
       "      <th>...</th>\n",
       "      <th>PAVED</th>\n",
       "      <th>GROOMED</th>\n",
       "      <th>ADA</th>\n",
       "      <th>WIDE</th>\n",
       "      <th>SEP_PATH</th>\n",
       "      <th>ALPINESKI</th>\n",
       "      <th>ACCURACY</th>\n",
       "      <th>MAPURL</th>\n",
       "      <th>SHAPE_Leng</th>\n",
       "      <th>geometry</th>\n",
       "    </tr>\n",
       "  </thead>\n",
       "  <tbody>\n",
       "    <tr>\n",
       "      <th>0</th>\n",
       "      <td>1</td>\n",
       "      <td>Y</td>\n",
       "      <td>48T</td>\n",
       "      <td>Drummer Hill and Goose Pond</td>\n",
       "      <td>Keene</td>\n",
       "      <td>0.454302</td>\n",
       "      <td>None</td>\n",
       "      <td>0</td>\n",
       "      <td>None</td>\n",
       "      <td>1</td>\n",
       "      <td>...</td>\n",
       "      <td>None</td>\n",
       "      <td>None</td>\n",
       "      <td>None</td>\n",
       "      <td>None</td>\n",
       "      <td>None</td>\n",
       "      <td>None</td>\n",
       "      <td>1</td>\n",
       "      <td>https://www.trailfinder.info/trails/trail/drum...</td>\n",
       "      <td>2398.715561</td>\n",
       "      <td>LINESTRING (821048.071 176910.411, 821012.921 ...</td>\n",
       "    </tr>\n",
       "    <tr>\n",
       "      <th>1</th>\n",
       "      <td>2</td>\n",
       "      <td>Y</td>\n",
       "      <td>A-Z Trail</td>\n",
       "      <td>White Mountain National Forest</td>\n",
       "      <td>Bethlehem</td>\n",
       "      <td>3.331851</td>\n",
       "      <td>None</td>\n",
       "      <td>50110</td>\n",
       "      <td>None</td>\n",
       "      <td>1</td>\n",
       "      <td>...</td>\n",
       "      <td>None</td>\n",
       "      <td>None</td>\n",
       "      <td>None</td>\n",
       "      <td>None</td>\n",
       "      <td>None</td>\n",
       "      <td>None</td>\n",
       "      <td>2</td>\n",
       "      <td>https://www.fs.usda.gov/activity/whitemountain...</td>\n",
       "      <td>17592.174000</td>\n",
       "      <td>LINESTRING (1030488.429 619271.548, 1030518.71...</td>\n",
       "    </tr>\n",
       "    <tr>\n",
       "      <th>2</th>\n",
       "      <td>3</td>\n",
       "      <td>Y</td>\n",
       "      <td>Abanaki Quad</td>\n",
       "      <td>Attitash/Bear Peak</td>\n",
       "      <td>Bartlett</td>\n",
       "      <td>0.891730</td>\n",
       "      <td>None</td>\n",
       "      <td>0</td>\n",
       "      <td>None</td>\n",
       "      <td>1</td>\n",
       "      <td>...</td>\n",
       "      <td>None</td>\n",
       "      <td>None</td>\n",
       "      <td>None</td>\n",
       "      <td>1</td>\n",
       "      <td>None</td>\n",
       "      <td>1</td>\n",
       "      <td>3</td>\n",
       "      <td>None</td>\n",
       "      <td>4708.331831</td>\n",
       "      <td>LINESTRING (1096078.672 576494.409, 1096075.00...</td>\n",
       "    </tr>\n",
       "    <tr>\n",
       "      <th>3</th>\n",
       "      <td>4</td>\n",
       "      <td>Y</td>\n",
       "      <td>Abbott Brook Rd</td>\n",
       "      <td>None</td>\n",
       "      <td>Atkinson &amp; Gilmanton</td>\n",
       "      <td>3.759935</td>\n",
       "      <td>None</td>\n",
       "      <td>0</td>\n",
       "      <td>None</td>\n",
       "      <td>None</td>\n",
       "      <td>...</td>\n",
       "      <td>None</td>\n",
       "      <td>None</td>\n",
       "      <td>None</td>\n",
       "      <td>1</td>\n",
       "      <td>None</td>\n",
       "      <td>None</td>\n",
       "      <td>2</td>\n",
       "      <td>None</td>\n",
       "      <td>19852.458011</td>\n",
       "      <td>LINESTRING (1128608.984 904400.132, 1128604.01...</td>\n",
       "    </tr>\n",
       "    <tr>\n",
       "      <th>4</th>\n",
       "      <td>5</td>\n",
       "      <td>Y</td>\n",
       "      <td>Abbott Brook Rd</td>\n",
       "      <td>None</td>\n",
       "      <td>Atkinson &amp; Gilmanton</td>\n",
       "      <td>0.192031</td>\n",
       "      <td>None</td>\n",
       "      <td>0</td>\n",
       "      <td>None</td>\n",
       "      <td>1</td>\n",
       "      <td>...</td>\n",
       "      <td>None</td>\n",
       "      <td>None</td>\n",
       "      <td>None</td>\n",
       "      <td>1</td>\n",
       "      <td>None</td>\n",
       "      <td>None</td>\n",
       "      <td>2</td>\n",
       "      <td>None</td>\n",
       "      <td>1013.922527</td>\n",
       "      <td>LINESTRING (1128610.233 903409.426, 1128607.76...</td>\n",
       "    </tr>\n",
       "  </tbody>\n",
       "</table>\n",
       "<p>5 rows × 28 columns</p>\n",
       "</div>"
      ],
      "text/plain": [
       "   OBJECTID TRAIL        TRAILNAME                        TRAILSYS  \\\n",
       "0         1     Y              48T     Drummer Hill and Goose Pond   \n",
       "1         2     Y        A-Z Trail  White Mountain National Forest   \n",
       "2         3     Y     Abanaki Quad              Attitash/Bear Peak   \n",
       "3         4     Y  Abbott Brook Rd                            None   \n",
       "4         5     Y  Abbott Brook Rd                            None   \n",
       "\n",
       "              COMMUNITY     MILES BLAZE  MAINTORG NOTES   PED  ... PAVED  \\\n",
       "0                 Keene  0.454302  None         0  None     1  ...  None   \n",
       "1             Bethlehem  3.331851  None     50110  None     1  ...  None   \n",
       "2              Bartlett  0.891730  None         0  None     1  ...  None   \n",
       "3  Atkinson & Gilmanton  3.759935  None         0  None  None  ...  None   \n",
       "4  Atkinson & Gilmanton  0.192031  None         0  None     1  ...  None   \n",
       "\n",
       "  GROOMED   ADA  WIDE SEP_PATH ALPINESKI ACCURACY  \\\n",
       "0    None  None  None     None      None        1   \n",
       "1    None  None  None     None      None        2   \n",
       "2    None  None     1     None         1        3   \n",
       "3    None  None     1     None      None        2   \n",
       "4    None  None     1     None      None        2   \n",
       "\n",
       "                                              MAPURL    SHAPE_Leng  \\\n",
       "0  https://www.trailfinder.info/trails/trail/drum...   2398.715561   \n",
       "1  https://www.fs.usda.gov/activity/whitemountain...  17592.174000   \n",
       "2                                               None   4708.331831   \n",
       "3                                               None  19852.458011   \n",
       "4                                               None   1013.922527   \n",
       "\n",
       "                                            geometry  \n",
       "0  LINESTRING (821048.071 176910.411, 821012.921 ...  \n",
       "1  LINESTRING (1030488.429 619271.548, 1030518.71...  \n",
       "2  LINESTRING (1096078.672 576494.409, 1096075.00...  \n",
       "3  LINESTRING (1128608.984 904400.132, 1128604.01...  \n",
       "4  LINESTRING (1128610.233 903409.426, 1128607.76...  \n",
       "\n",
       "[5 rows x 28 columns]"
      ]
     },
     "execution_count": 9,
     "metadata": {},
     "output_type": "execute_result"
    }
   ],
   "source": [
    "nh_trails.head()"
   ]
  },
  {
   "cell_type": "code",
   "execution_count": 10,
   "id": "fad5b97c",
   "metadata": {},
   "outputs": [
    {
     "name": "stdout",
     "output_type": "stream",
     "text": [
      "<class 'geopandas.geodataframe.GeoDataFrame'>\n",
      "RangeIndex: 19877 entries, 0 to 19876\n",
      "Data columns (total 28 columns):\n",
      " #   Column      Non-Null Count  Dtype   \n",
      "---  ------      --------------  -----   \n",
      " 0   OBJECTID    19877 non-null  int64   \n",
      " 1   TRAIL       19877 non-null  object  \n",
      " 2   TRAILNAME   6849 non-null   object  \n",
      " 3   TRAILSYS    10881 non-null  object  \n",
      " 4   COMMUNITY   19877 non-null  object  \n",
      " 5   MILES       19877 non-null  float64 \n",
      " 6   BLAZE       274 non-null    object  \n",
      " 7   MAINTORG    19877 non-null  int64   \n",
      " 8   NOTES       194 non-null    object  \n",
      " 9   PED         10071 non-null  object  \n",
      " 10  MTNBIKE     1021 non-null   object  \n",
      " 11  ROADBIKE    20 non-null     object  \n",
      " 12  XCSKI       1056 non-null   object  \n",
      " 13  SNOWMBL     3765 non-null   object  \n",
      " 14  ATV         320 non-null    object  \n",
      " 15  DIRTBIKE    0 non-null      object  \n",
      " 16  HORSE       605 non-null    object  \n",
      " 17  PADDLE      0 non-null      object  \n",
      " 18  PAVED       0 non-null      object  \n",
      " 19  GROOMED     0 non-null      object  \n",
      " 20  ADA         3 non-null      object  \n",
      " 21  WIDE        9615 non-null   object  \n",
      " 22  SEP_PATH    0 non-null      object  \n",
      " 23  ALPINESKI   2210 non-null   object  \n",
      " 24  ACCURACY    19877 non-null  int64   \n",
      " 25  MAPURL      5890 non-null   object  \n",
      " 26  SHAPE_Leng  19877 non-null  float64 \n",
      " 27  geometry    19877 non-null  geometry\n",
      "dtypes: float64(2), geometry(1), int64(3), object(22)\n",
      "memory usage: 4.2+ MB\n"
     ]
    }
   ],
   "source": [
    "nh_trails.info()"
   ]
  },
  {
   "cell_type": "code",
   "execution_count": 11,
   "id": "95119431",
   "metadata": {},
   "outputs": [
    {
     "data": {
      "text/plain": [
       "<Derived Projected CRS: PROJCS[\"NAD83(2011) / New Hampshire (ftUS)\",GEOGCS ...>\n",
       "Name: NAD83(2011) / New Hampshire (ftUS)\n",
       "Axis Info [cartesian]:\n",
       "- [east]: Easting (US survey foot)\n",
       "- [north]: Northing (US survey foot)\n",
       "Area of Use:\n",
       "- undefined\n",
       "Coordinate Operation:\n",
       "- name: unnamed\n",
       "- method: Transverse Mercator\n",
       "Datum: NAD83 (National Spatial Reference System 2011)\n",
       "- Ellipsoid: GRS 1980\n",
       "- Prime Meridian: Greenwich"
      ]
     },
     "execution_count": 11,
     "metadata": {},
     "output_type": "execute_result"
    }
   ],
   "source": [
    "nh_trails.crs"
   ]
  },
  {
   "cell_type": "code",
   "execution_count": 12,
   "id": "a08c00a9",
   "metadata": {},
   "outputs": [],
   "source": [
    "pub_land_url = \"https://opendata.arcgis.com/datasets/ac1d1c9b7fb548dcaaa6bdb5c80b70d5_6.geojson\"\n"
   ]
  },
  {
   "cell_type": "code",
   "execution_count": 13,
   "id": "d5f60f1a",
   "metadata": {},
   "outputs": [
    {
     "data": {
      "application/vnd.jupyter.widget-view+json": {
       "model_id": "a34e3ebe20404303a0b4ed3d0766d010",
       "version_major": 2,
       "version_minor": 0
      },
      "text/plain": [
       "Map(center=[43.78699687528447, -71.51658744025995], controls=(WidgetControl(options=['position', 'transparent_…"
      ]
     },
     "metadata": {},
     "output_type": "display_data"
    }
   ],
   "source": [
    "m2 = geemap.Map(center=nh_center, zoom=nh_zoom, ee_initialize=False)\n",
    "\n",
    "m2.add_basemap(\"HYBRID\")\n",
    "\n",
    "m2"
   ]
  },
  {
   "cell_type": "code",
   "execution_count": 15,
   "id": "f4039912",
   "metadata": {},
   "outputs": [],
   "source": [
    "style = {\n",
    "    \"stroke\": True,\n",
    "    \"color\": \"#000000\",\n",
    "    \"weight\": 2,\n",
    "    \"opacity\": 1,\n",
    "    \"fill\": True,\n",
    "    \"fillColor\": \"#0000ff\",\n",
    "    \"fillOpacity\": 0.4,\n",
    "}"
   ]
  },
  {
   "cell_type": "code",
   "execution_count": 16,
   "id": "418ae8f2",
   "metadata": {},
   "outputs": [],
   "source": [
    "m2.add_geojson(pub_land_url, style=style, layer_name=\"NH Public/Cnsvn Land\")"
   ]
  }
 ],
 "metadata": {
  "hide_input": false,
  "kernelspec": {
   "display_name": "Python 3 (ipykernel)",
   "language": "python",
   "name": "python3"
  },
  "language_info": {
   "codemirror_mode": {
    "name": "ipython",
    "version": 3
   },
   "file_extension": ".py",
   "mimetype": "text/x-python",
   "name": "python",
   "nbconvert_exporter": "python",
   "pygments_lexer": "ipython3",
   "version": "3.8.12"
  },
  "toc": {
   "base_numbering": 1,
   "nav_menu": {},
   "number_sections": true,
   "sideBar": true,
   "skip_h1_title": false,
   "title_cell": "Table of Contents",
   "title_sidebar": "Contents",
   "toc_cell": false,
   "toc_position": {},
   "toc_section_display": true,
   "toc_window_display": false
  }
 },
 "nbformat": 4,
 "nbformat_minor": 5
}
